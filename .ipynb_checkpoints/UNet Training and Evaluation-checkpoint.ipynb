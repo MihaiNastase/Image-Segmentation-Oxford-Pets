{
 "cells": [
  {
   "cell_type": "markdown",
   "id": "748294fe",
   "metadata": {},
   "source": [
    "# U-Net Training and Evaluation"
   ]
  },
  {
   "cell_type": "code",
   "execution_count": 1,
   "id": "83392f4d",
   "metadata": {},
   "outputs": [
    {
     "name": "stderr",
     "output_type": "stream",
     "text": [
      "C:\\Users\\Mihai\\AppData\\Local\\Temp\\ipykernel_19820\\3038056330.py:1: DeprecationWarning: the imp module is deprecated in favour of importlib; see the module's documentation for alternative uses\n",
      "  import imp\n"
     ]
    }
   ],
   "source": [
    "import os # To access system files\n",
    "from IPython.display import display # Utility to easily display images in this environment\n",
    "# For image manipulation\n",
    "import PIL \n",
    "from PIL import Image, ImageOps\n",
    "\n",
    "import numpy as np # To transform and manipulate image data\n",
    "\n",
    "import random # For testing and evaluation"
   ]
  },
  {
   "cell_type": "code",
   "execution_count": null,
   "id": "e0c37674",
   "metadata": {},
   "outputs": [],
   "source": []
  }
 ],
 "metadata": {
  "kernelspec": {
   "display_name": "Python 3 (ipykernel)",
   "language": "python",
   "name": "python3"
  },
  "language_info": {
   "codemirror_mode": {
    "name": "ipython",
    "version": 3
   },
   "file_extension": ".py",
   "mimetype": "text/x-python",
   "name": "python",
   "nbconvert_exporter": "python",
   "pygments_lexer": "ipython3",
   "version": "3.9.7"
  }
 },
 "nbformat": 4,
 "nbformat_minor": 5
}
